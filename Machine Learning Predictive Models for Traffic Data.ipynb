{
 "cells": [
  {
   "cell_type": "markdown",
   "metadata": {},
   "source": [
    "Engineers and researchers in the automobile\n",
    "industry have tried to design and build safer automobiles, but\n",
    "traffic accidents are unavoidable. Patterns involved in\n",
    "dangerous crashes could be detected if we develop a\n",
    "prediction model that automatically classifies the type of\n",
    "injury severity of various traffic accidents. These behavioral\n",
    "and roadway patterns are useful in the development of traffic\n",
    "safety control policy. "
   ]
  },
  {
   "cell_type": "markdown",
   "metadata": {},
   "source": [
    "Road accidents are never a happy issue to discuss. It not only has severe consequences for those involved, it also affects the lives of many others like friends and family. With more vehicles on the road than ever before, its important to understand them in greater detail, and possibly ‘predict’ the locations and consequences of these accidents. Government agencies in the UK have been collecting data about the accidents that were reported since the year 2005. The data includes generic and specific details about the vehicles, driver, number of passengers and number of casualties."
   ]
  },
  {
   "cell_type": "markdown",
   "metadata": {},
   "source": [
    "With data available since 2005, one could develop a model to predict the accidents. We know that the data recorded in the database are for reported accidents, so we know for sure these accidents have ‘happened’. We use this data to predict the location of the accident, in terms of latitude and longitude, and also the number of expected casualties of the accidents."
   ]
  },
  {
   "cell_type": "markdown",
   "metadata": {},
   "source": [
    "## Research Goals"
   ]
  },
  {
   "cell_type": "markdown",
   "metadata": {},
   "source": [
    "Identify and quantify associations (if any) between the number of causalities and other variables in the data set."
   ]
  },
  {
   "cell_type": "markdown",
   "metadata": {},
   "source": [
    "Explore whether it is possible to predict accident hot-spots based on the data."
   ]
  },
  {
   "cell_type": "markdown",
   "metadata": {},
   "source": [
    "### Predictive Analytics Problem? "
   ]
  },
  {
   "cell_type": "markdown",
   "metadata": {},
   "source": [
    "Can we predict the number of casualties of each accident? This is helpful for us to identify what features might be related to higher number of casualty in an accident and lower number of casualties in an accident?"
   ]
  },
  {
   "cell_type": "markdown",
   "metadata": {},
   "source": [
    "We use xgboost (extreme gradient boosting) regressors for the model creation we have."
   ]
  },
  {
   "cell_type": "code",
   "execution_count": 1,
   "metadata": {
    "collapsed": false
   },
   "outputs": [
    {
     "name": "stderr",
     "output_type": "stream",
     "text": [
      "/Users/user/anaconda3/envs/7mw/lib/python3.5/site-packages/sklearn/cross_validation.py:44: DeprecationWarning: This module was deprecated in version 0.18 in favor of the model_selection module into which all the refactored classes and functions are moved. Also note that the interface of the new CV iterators are different from that of this module. This module will be removed in 0.20.\n",
      "  \"This module will be removed in 0.20.\", DeprecationWarning)\n"
     ]
    }
   ],
   "source": [
    "import numpy as np\n",
    "import pandas as pd\n",
    "import matplotlib.pyplot as plt\n",
    "import xgboost\n",
    "import math\n",
    "from __future__ import division\n",
    "from scipy.stats import pearsonr\n",
    "from sklearn.linear_model import LinearRegression\n",
    "from sklearn import cross_validation, tree, linear_model\n",
    "from sklearn.model_selection import train_test_split\n",
    "from sklearn.metrics import explained_variance_score"
   ]
  },
  {
   "cell_type": "code",
   "execution_count": 2,
   "metadata": {
    "collapsed": false
   },
   "outputs": [
    {
     "name": "stdout",
     "output_type": "stream",
     "text": [
      "Number of rows and collumns (570011, 33) (469442, 33) (464697, 33) (1504150, 33)\n",
      "CPU times: user 12.4 s, sys: 2.21 s, total: 14.7 s\n",
      "Wall time: 15.2 s\n"
     ]
    }
   ],
   "source": [
    "%%time\n",
    "df1 = pd.read_csv('/Users/user/Desktop/application/DHL/accidents_2005_to_2007.csv',low_memory=False)\n",
    "df2 = pd.read_csv('/Users/user/Desktop/application/DHL/accidents_2009_to_2011.csv',low_memory=False)\n",
    "df3 = pd.read_csv('/Users/user/Desktop/application/DHL/accidents_2012_to_2014.csv',low_memory=False)\n",
    "\n",
    "# check if the three datasets have same column headers\n",
    "df1.columns.difference(df2.columns).difference(df3.columns)\n",
    "\n",
    "# combine three datasets into one\n",
    "df = pd.concat([df1, df2, df3],ignore_index=True)\n",
    "\n",
    "print('Number of rows and collumns',df1.shape,df2.shape,df3.shape,df.shape)"
   ]
  },
  {
   "cell_type": "code",
   "execution_count": 3,
   "metadata": {
    "collapsed": false
   },
   "outputs": [
    {
     "data": {
      "text/plain": [
       "Index(['Accident_Index', 'Location_Easting_OSGR', 'Location_Northing_OSGR',\n",
       "       'Longitude', 'Latitude', 'Police_Force', 'Accident_Severity',\n",
       "       'Number_of_Vehicles', 'Number_of_Casualties', 'Date', 'Day_of_Week',\n",
       "       'Time', 'Local_Authority_(District)', 'Local_Authority_(Highway)',\n",
       "       '1st_Road_Class', '1st_Road_Number', 'Road_Type', 'Speed_limit',\n",
       "       'Junction_Detail', 'Junction_Control', '2nd_Road_Class',\n",
       "       '2nd_Road_Number', 'Pedestrian_Crossing-Human_Control',\n",
       "       'Pedestrian_Crossing-Physical_Facilities', 'Light_Conditions',\n",
       "       'Weather_Conditions', 'Road_Surface_Conditions',\n",
       "       'Special_Conditions_at_Site', 'Carriageway_Hazards',\n",
       "       'Urban_or_Rural_Area', 'Did_Police_Officer_Attend_Scene_of_Accident',\n",
       "       'LSOA_of_Accident_Location', 'Year'],\n",
       "      dtype='object')"
      ]
     },
     "execution_count": 3,
     "metadata": {},
     "output_type": "execute_result"
    }
   ],
   "source": [
    "df.columns"
   ]
  },
  {
   "cell_type": "markdown",
   "metadata": {},
   "source": [
    "# Add additional features to be used in prediction"
   ]
  },
  {
   "cell_type": "code",
   "execution_count": 4,
   "metadata": {
    "collapsed": true
   },
   "outputs": [],
   "source": [
    "df['Date'] = pd.to_datetime(df['Date'],dayfirst=True)"
   ]
  },
  {
   "cell_type": "code",
   "execution_count": 5,
   "metadata": {
    "collapsed": true
   },
   "outputs": [],
   "source": [
    "def to_hour(time):\n",
    "    try:\n",
    "        hour = datetime.strptime(str(time), '%H:%M')\n",
    "        return int(datetime.strftime(hour, '%H'))\n",
    "    except Exception:\n",
    "        return 0"
   ]
  },
  {
   "cell_type": "code",
   "execution_count": 6,
   "metadata": {
    "collapsed": true
   },
   "outputs": [],
   "source": [
    "# Extract month, day of month, day of year from Date Column\n",
    "df['month'] = df['Date'].apply(lambda x: x.month)\n",
    "df['day_of_month'] = df['Date'].apply(lambda x: x.day)\n",
    "df['day_of_year'] = df['Date'].apply(lambda x: x.dayofyear)\n",
    "df['hour'] = df['Time'].apply(to_hour)"
   ]
  },
  {
   "cell_type": "code",
   "execution_count": 7,
   "metadata": {
    "collapsed": true
   },
   "outputs": [],
   "source": [
    "del df['Junction_Detail']\n",
    "df = df.dropna(how='any',axis=0) "
   ]
  },
  {
   "cell_type": "markdown",
   "metadata": {},
   "source": [
    "# Discretize Categorical Data"
   ]
  },
  {
   "cell_type": "code",
   "execution_count": 8,
   "metadata": {
    "collapsed": true
   },
   "outputs": [],
   "source": [
    "cat_columns = ['Local_Authority_(Highway)',\n",
    "'Road_Type',\n",
    "'Junction_Control',\n",
    "'Pedestrian_Crossing-Human_Control',\n",
    "'Pedestrian_Crossing-Physical_Facilities',\n",
    "'Light_Conditions', \n",
    "'Weather_Conditions', \n",
    "'Road_Surface_Conditions',\n",
    "'Did_Police_Officer_Attend_Scene_of_Accident',\n",
    "'Urban_or_Rural_Area',\n",
    "'Accident_Severity',\n",
    "'Day_of_Week',\n",
    "'1st_Road_Class',\n",
    "'2nd_Road_Class']\n",
    "\n",
    "prefix_cols = ['Local_Authority_(Highway)',\n",
    "'Road_Type',\n",
    "'Junction_Control',\n",
    "'Pedestrian_Crossing-Human_Control',\n",
    "'Pedestrian_Crossing-Physical_Facilities',\n",
    "'Light_Conditions', \n",
    "'Weather_Conditions', \n",
    "'Road_Surface_Conditions',\n",
    "'Did_Police_Officer_Attend_Scene_of_Accident',\n",
    "'Urban_or_Rural_Area',\n",
    "'Accident_Severity',\n",
    "'Day_of_Week',\n",
    "'1st_Road_Class',\n",
    "'2nd_Road_Class']"
   ]
  },
  {
   "cell_type": "code",
   "execution_count": 9,
   "metadata": {
    "collapsed": false
   },
   "outputs": [],
   "source": [
    "df = pd.get_dummies(df, columns=cat_columns, prefix=cat_columns)"
   ]
  },
  {
   "cell_type": "code",
   "execution_count": 10,
   "metadata": {
    "collapsed": true
   },
   "outputs": [],
   "source": [
    "target = 'Number_of_Casualties'\n",
    "features = [col for col in df.columns if col not in ['Accident_Index','Number_of_Casualties', 'Date', \n",
    "                                                     'Time','Special_Conditions_at_Site','Carriageway_Hazards',\n",
    "                                                     'Local_Authority_(Highway)','LSOA_of_Accident_Location',\n",
    "                                                     'Local_Authority_(Highway)']]"
   ]
  },
  {
   "cell_type": "code",
   "execution_count": 63,
   "metadata": {
    "collapsed": false
   },
   "outputs": [
    {
     "data": {
      "text/plain": [
       "['Location_Easting_OSGR',\n",
       " 'Location_Northing_OSGR',\n",
       " 'Longitude',\n",
       " 'Latitude',\n",
       " 'Police_Force',\n",
       " 'Number_of_Vehicles',\n",
       " 'Local_Authority_(District)',\n",
       " '1st_Road_Number',\n",
       " 'Speed_limit',\n",
       " '2nd_Road_Number',\n",
       " 'Year',\n",
       " 'month',\n",
       " 'day_of_month',\n",
       " 'day_of_year',\n",
       " 'hour',\n",
       " 'Local_Authority_(Highway)_E06000001',\n",
       " 'Local_Authority_(Highway)_E06000002',\n",
       " 'Local_Authority_(Highway)_E06000003',\n",
       " 'Local_Authority_(Highway)_E06000004',\n",
       " 'Local_Authority_(Highway)_E06000005',\n",
       " 'Local_Authority_(Highway)_E06000006',\n",
       " 'Local_Authority_(Highway)_E06000007',\n",
       " 'Local_Authority_(Highway)_E06000008',\n",
       " 'Local_Authority_(Highway)_E06000009',\n",
       " 'Local_Authority_(Highway)_E06000010',\n",
       " 'Local_Authority_(Highway)_E06000011',\n",
       " 'Local_Authority_(Highway)_E06000012',\n",
       " 'Local_Authority_(Highway)_E06000013',\n",
       " 'Local_Authority_(Highway)_E06000014',\n",
       " 'Local_Authority_(Highway)_E06000015',\n",
       " 'Local_Authority_(Highway)_E06000016',\n",
       " 'Local_Authority_(Highway)_E06000017',\n",
       " 'Local_Authority_(Highway)_E06000018',\n",
       " 'Local_Authority_(Highway)_E06000019',\n",
       " 'Local_Authority_(Highway)_E06000020',\n",
       " 'Local_Authority_(Highway)_E06000021',\n",
       " 'Local_Authority_(Highway)_E06000022',\n",
       " 'Local_Authority_(Highway)_E06000023',\n",
       " 'Local_Authority_(Highway)_E06000024',\n",
       " 'Local_Authority_(Highway)_E06000025',\n",
       " 'Local_Authority_(Highway)_E06000026',\n",
       " 'Local_Authority_(Highway)_E06000027',\n",
       " 'Local_Authority_(Highway)_E06000028',\n",
       " 'Local_Authority_(Highway)_E06000029',\n",
       " 'Local_Authority_(Highway)_E06000030',\n",
       " 'Local_Authority_(Highway)_E06000031',\n",
       " 'Local_Authority_(Highway)_E06000032',\n",
       " 'Local_Authority_(Highway)_E06000033',\n",
       " 'Local_Authority_(Highway)_E06000034',\n",
       " 'Local_Authority_(Highway)_E06000035',\n",
       " 'Local_Authority_(Highway)_E06000036',\n",
       " 'Local_Authority_(Highway)_E06000037',\n",
       " 'Local_Authority_(Highway)_E06000038',\n",
       " 'Local_Authority_(Highway)_E06000039',\n",
       " 'Local_Authority_(Highway)_E06000040',\n",
       " 'Local_Authority_(Highway)_E06000041',\n",
       " 'Local_Authority_(Highway)_E06000042',\n",
       " 'Local_Authority_(Highway)_E06000043',\n",
       " 'Local_Authority_(Highway)_E06000044',\n",
       " 'Local_Authority_(Highway)_E06000045',\n",
       " 'Local_Authority_(Highway)_E06000046',\n",
       " 'Local_Authority_(Highway)_E06000047',\n",
       " 'Local_Authority_(Highway)_E06000048',\n",
       " 'Local_Authority_(Highway)_E06000049',\n",
       " 'Local_Authority_(Highway)_E06000050',\n",
       " 'Local_Authority_(Highway)_E06000051',\n",
       " 'Local_Authority_(Highway)_E06000052',\n",
       " 'Local_Authority_(Highway)_E06000053',\n",
       " 'Local_Authority_(Highway)_E06000054',\n",
       " 'Local_Authority_(Highway)_E06000055',\n",
       " 'Local_Authority_(Highway)_E06000056',\n",
       " 'Local_Authority_(Highway)_E08000001',\n",
       " 'Local_Authority_(Highway)_E08000002',\n",
       " 'Local_Authority_(Highway)_E08000003',\n",
       " 'Local_Authority_(Highway)_E08000004',\n",
       " 'Local_Authority_(Highway)_E08000005',\n",
       " 'Local_Authority_(Highway)_E08000006',\n",
       " 'Local_Authority_(Highway)_E08000007',\n",
       " 'Local_Authority_(Highway)_E08000008',\n",
       " 'Local_Authority_(Highway)_E08000009',\n",
       " 'Local_Authority_(Highway)_E08000010',\n",
       " 'Local_Authority_(Highway)_E08000011',\n",
       " 'Local_Authority_(Highway)_E08000012',\n",
       " 'Local_Authority_(Highway)_E08000013',\n",
       " 'Local_Authority_(Highway)_E08000014',\n",
       " 'Local_Authority_(Highway)_E08000015',\n",
       " 'Local_Authority_(Highway)_E08000016',\n",
       " 'Local_Authority_(Highway)_E08000017',\n",
       " 'Local_Authority_(Highway)_E08000018',\n",
       " 'Local_Authority_(Highway)_E08000019',\n",
       " 'Local_Authority_(Highway)_E08000020',\n",
       " 'Local_Authority_(Highway)_E08000021',\n",
       " 'Local_Authority_(Highway)_E08000022',\n",
       " 'Local_Authority_(Highway)_E08000023',\n",
       " 'Local_Authority_(Highway)_E08000024',\n",
       " 'Local_Authority_(Highway)_E08000025',\n",
       " 'Local_Authority_(Highway)_E08000026',\n",
       " 'Local_Authority_(Highway)_E08000027',\n",
       " 'Local_Authority_(Highway)_E08000028',\n",
       " 'Local_Authority_(Highway)_E08000029',\n",
       " 'Local_Authority_(Highway)_E08000030',\n",
       " 'Local_Authority_(Highway)_E08000031',\n",
       " 'Local_Authority_(Highway)_E08000032',\n",
       " 'Local_Authority_(Highway)_E08000033',\n",
       " 'Local_Authority_(Highway)_E08000034',\n",
       " 'Local_Authority_(Highway)_E08000035',\n",
       " 'Local_Authority_(Highway)_E08000036',\n",
       " 'Local_Authority_(Highway)_E09000001',\n",
       " 'Local_Authority_(Highway)_E09000002',\n",
       " 'Local_Authority_(Highway)_E09000003',\n",
       " 'Local_Authority_(Highway)_E09000004',\n",
       " 'Local_Authority_(Highway)_E09000005',\n",
       " 'Local_Authority_(Highway)_E09000006',\n",
       " 'Local_Authority_(Highway)_E09000007',\n",
       " 'Local_Authority_(Highway)_E09000008',\n",
       " 'Local_Authority_(Highway)_E09000009',\n",
       " 'Local_Authority_(Highway)_E09000010',\n",
       " 'Local_Authority_(Highway)_E09000011',\n",
       " 'Local_Authority_(Highway)_E09000012',\n",
       " 'Local_Authority_(Highway)_E09000013',\n",
       " 'Local_Authority_(Highway)_E09000014',\n",
       " 'Local_Authority_(Highway)_E09000015',\n",
       " 'Local_Authority_(Highway)_E09000016',\n",
       " 'Local_Authority_(Highway)_E09000017',\n",
       " 'Local_Authority_(Highway)_E09000018',\n",
       " 'Local_Authority_(Highway)_E09000019',\n",
       " 'Local_Authority_(Highway)_E09000020',\n",
       " 'Local_Authority_(Highway)_E09000021',\n",
       " 'Local_Authority_(Highway)_E09000022',\n",
       " 'Local_Authority_(Highway)_E09000023',\n",
       " 'Local_Authority_(Highway)_E09000024',\n",
       " 'Local_Authority_(Highway)_E09000025',\n",
       " 'Local_Authority_(Highway)_E09000026',\n",
       " 'Local_Authority_(Highway)_E09000027',\n",
       " 'Local_Authority_(Highway)_E09000028',\n",
       " 'Local_Authority_(Highway)_E09000029',\n",
       " 'Local_Authority_(Highway)_E09000030',\n",
       " 'Local_Authority_(Highway)_E09000031',\n",
       " 'Local_Authority_(Highway)_E09000032',\n",
       " 'Local_Authority_(Highway)_E09000033',\n",
       " 'Local_Authority_(Highway)_E10000002',\n",
       " 'Local_Authority_(Highway)_E10000003',\n",
       " 'Local_Authority_(Highway)_E10000006',\n",
       " 'Local_Authority_(Highway)_E10000007',\n",
       " 'Local_Authority_(Highway)_E10000008',\n",
       " 'Local_Authority_(Highway)_E10000009',\n",
       " 'Local_Authority_(Highway)_E10000011',\n",
       " 'Local_Authority_(Highway)_E10000012',\n",
       " 'Local_Authority_(Highway)_E10000013',\n",
       " 'Local_Authority_(Highway)_E10000014',\n",
       " 'Local_Authority_(Highway)_E10000015',\n",
       " 'Local_Authority_(Highway)_E10000016',\n",
       " 'Local_Authority_(Highway)_E10000017',\n",
       " 'Local_Authority_(Highway)_E10000018',\n",
       " 'Local_Authority_(Highway)_E10000019',\n",
       " 'Local_Authority_(Highway)_E10000020',\n",
       " 'Local_Authority_(Highway)_E10000021',\n",
       " 'Local_Authority_(Highway)_E10000023',\n",
       " 'Local_Authority_(Highway)_E10000024',\n",
       " 'Local_Authority_(Highway)_E10000025',\n",
       " 'Local_Authority_(Highway)_E10000027',\n",
       " 'Local_Authority_(Highway)_E10000028',\n",
       " 'Local_Authority_(Highway)_E10000029',\n",
       " 'Local_Authority_(Highway)_E10000030',\n",
       " 'Local_Authority_(Highway)_E10000031',\n",
       " 'Local_Authority_(Highway)_E10000032',\n",
       " 'Local_Authority_(Highway)_E10000034',\n",
       " 'Local_Authority_(Highway)_EHEATHROW',\n",
       " 'Local_Authority_(Highway)_S12000027',\n",
       " 'Local_Authority_(Highway)_S12000029',\n",
       " 'Local_Authority_(Highway)_S12000038',\n",
       " 'Local_Authority_(Highway)_W06000001',\n",
       " 'Local_Authority_(Highway)_W06000002',\n",
       " 'Local_Authority_(Highway)_W06000003',\n",
       " 'Local_Authority_(Highway)_W06000004',\n",
       " 'Local_Authority_(Highway)_W06000005',\n",
       " 'Local_Authority_(Highway)_W06000006',\n",
       " 'Local_Authority_(Highway)_W06000008',\n",
       " 'Local_Authority_(Highway)_W06000009',\n",
       " 'Local_Authority_(Highway)_W06000010',\n",
       " 'Local_Authority_(Highway)_W06000011',\n",
       " 'Local_Authority_(Highway)_W06000012',\n",
       " 'Local_Authority_(Highway)_W06000013',\n",
       " 'Local_Authority_(Highway)_W06000014',\n",
       " 'Local_Authority_(Highway)_W06000015',\n",
       " 'Local_Authority_(Highway)_W06000016',\n",
       " 'Local_Authority_(Highway)_W06000018',\n",
       " 'Local_Authority_(Highway)_W06000019',\n",
       " 'Local_Authority_(Highway)_W06000020',\n",
       " 'Local_Authority_(Highway)_W06000021',\n",
       " 'Local_Authority_(Highway)_W06000022',\n",
       " 'Local_Authority_(Highway)_W06000023',\n",
       " 'Local_Authority_(Highway)_W06000024',\n",
       " 'Road_Type_Dual carriageway',\n",
       " 'Road_Type_One way street',\n",
       " 'Road_Type_Roundabout',\n",
       " 'Road_Type_Single carriageway',\n",
       " 'Road_Type_Slip road',\n",
       " 'Road_Type_Unknown',\n",
       " 'Junction_Control_Authorised person',\n",
       " 'Junction_Control_Automatic traffic signal',\n",
       " 'Junction_Control_Giveway or uncontrolled',\n",
       " 'Junction_Control_Stop Sign',\n",
       " 'Pedestrian_Crossing-Human_Control_Control by other authorised person',\n",
       " 'Pedestrian_Crossing-Human_Control_Control by school crossing patrol',\n",
       " 'Pedestrian_Crossing-Human_Control_None within 50 metres',\n",
       " 'Pedestrian_Crossing-Physical_Facilities_Central refuge',\n",
       " 'Pedestrian_Crossing-Physical_Facilities_Footbridge or subway',\n",
       " 'Pedestrian_Crossing-Physical_Facilities_No physical crossing within 50 meters',\n",
       " 'Pedestrian_Crossing-Physical_Facilities_Pedestrian phase at traffic signal junction',\n",
       " 'Pedestrian_Crossing-Physical_Facilities_Zebra crossing',\n",
       " 'Pedestrian_Crossing-Physical_Facilities_non-junction pedestrian crossing',\n",
       " 'Light_Conditions_Darkeness: No street lighting',\n",
       " 'Light_Conditions_Darkness: Street lighting unknown',\n",
       " 'Light_Conditions_Darkness: Street lights present and lit',\n",
       " 'Light_Conditions_Darkness: Street lights present but unlit',\n",
       " 'Light_Conditions_Daylight: Street light present',\n",
       " 'Weather_Conditions_Fine with high winds',\n",
       " 'Weather_Conditions_Fine without high winds',\n",
       " 'Weather_Conditions_Fog or mist',\n",
       " 'Weather_Conditions_Other',\n",
       " 'Weather_Conditions_Raining with high winds',\n",
       " 'Weather_Conditions_Raining without high winds',\n",
       " 'Weather_Conditions_Snowing with high winds',\n",
       " 'Weather_Conditions_Snowing without high winds',\n",
       " 'Weather_Conditions_Unknown',\n",
       " 'Road_Surface_Conditions_Dry',\n",
       " 'Road_Surface_Conditions_Flood (Over 3cm of water)',\n",
       " 'Road_Surface_Conditions_Frost/Ice',\n",
       " 'Road_Surface_Conditions_Snow',\n",
       " 'Road_Surface_Conditions_Wet/Damp',\n",
       " 'Did_Police_Officer_Attend_Scene_of_Accident_No',\n",
       " 'Did_Police_Officer_Attend_Scene_of_Accident_Yes',\n",
       " 'Urban_or_Rural_Area_1',\n",
       " 'Urban_or_Rural_Area_2',\n",
       " 'Accident_Severity_1',\n",
       " 'Accident_Severity_2',\n",
       " 'Accident_Severity_3',\n",
       " 'Day_of_Week_1',\n",
       " 'Day_of_Week_2',\n",
       " 'Day_of_Week_3',\n",
       " 'Day_of_Week_4',\n",
       " 'Day_of_Week_5',\n",
       " 'Day_of_Week_6',\n",
       " 'Day_of_Week_7',\n",
       " '1st_Road_Class_1',\n",
       " '1st_Road_Class_2',\n",
       " '1st_Road_Class_3',\n",
       " '1st_Road_Class_4',\n",
       " '1st_Road_Class_5',\n",
       " '1st_Road_Class_6',\n",
       " '2nd_Road_Class_-1',\n",
       " '2nd_Road_Class_1',\n",
       " '2nd_Road_Class_2',\n",
       " '2nd_Road_Class_3',\n",
       " '2nd_Road_Class_4',\n",
       " '2nd_Road_Class_5',\n",
       " '2nd_Road_Class_6']"
      ]
     },
     "execution_count": 63,
     "metadata": {},
     "output_type": "execute_result"
    }
   ],
   "source": [
    "features"
   ]
  },
  {
   "cell_type": "markdown",
   "metadata": {},
   "source": [
    "# Predicting Number of Casualties "
   ]
  },
  {
   "cell_type": "code",
   "execution_count": 11,
   "metadata": {
    "collapsed": false
   },
   "outputs": [],
   "source": [
    "X = df[features].values\n",
    "y = df[target].values"
   ]
  },
  {
   "cell_type": "code",
   "execution_count": 12,
   "metadata": {
    "collapsed": true
   },
   "outputs": [],
   "source": [
    "X_train, X_test, y_train, y_test = cross_validation.train_test_split(X, y ,test_size=0.2)"
   ]
  },
  {
   "cell_type": "markdown",
   "metadata": {},
   "source": [
    "### Simple linear regression model"
   ]
  },
  {
   "cell_type": "code",
   "execution_count": 13,
   "metadata": {
    "collapsed": true
   },
   "outputs": [],
   "source": [
    "regr = linear_model.LinearRegression()"
   ]
  },
  {
   "cell_type": "code",
   "execution_count": 14,
   "metadata": {
    "collapsed": false
   },
   "outputs": [
    {
     "name": "stdout",
     "output_type": "stream",
     "text": [
      "[ 1.28804345  1.43143614  1.32055761 ...,  1.61030619  1.10897941\n",
      "  1.41458937]\n"
     ]
    }
   ],
   "source": [
    "regr.fit(X_train, y_train)\n",
    "print(regr.predict(X_test))"
   ]
  },
  {
   "cell_type": "code",
   "execution_count": 15,
   "metadata": {
    "collapsed": false
   },
   "outputs": [
    {
     "data": {
      "text/plain": [
       "0.085311191642308049"
      ]
     },
     "execution_count": 15,
     "metadata": {},
     "output_type": "execute_result"
    }
   ],
   "source": [
    "regr.score(X_test,y_test)"
   ]
  },
  {
   "cell_type": "code",
   "execution_count": 16,
   "metadata": {
    "collapsed": false
   },
   "outputs": [
    {
     "name": "stdout",
     "output_type": "stream",
     "text": [
      "RMSE: 0.72\n"
     ]
    }
   ],
   "source": [
    "# Calculate the Root Mean Squared Error\n",
    "print(\"RMSE: %.2f\"\n",
    "      % math.sqrt(np.mean((regr.predict(X_test) - y_test) ** 2)))"
   ]
  },
  {
   "cell_type": "markdown",
   "metadata": {},
   "source": [
    "## Using XGBoost Algorithm"
   ]
  },
  {
   "cell_type": "code",
   "execution_count": 17,
   "metadata": {
    "collapsed": true
   },
   "outputs": [],
   "source": [
    "# Let's try XGboost algorithm to see if we can get better results\n",
    "xgb = xgboost.XGBRegressor(nthread=-1)"
   ]
  },
  {
   "cell_type": "code",
   "execution_count": 18,
   "metadata": {
    "collapsed": false
   },
   "outputs": [
    {
     "name": "stdout",
     "output_type": "stream",
     "text": [
      "-10.2938163527\n"
     ]
    }
   ],
   "source": [
    "xgb.fit(X_train,y_train)\n",
    "predictions = xgb.predict(X_test)\n",
    "print(explained_variance_score(predictions,y_test))"
   ]
  },
  {
   "cell_type": "code",
   "execution_count": 19,
   "metadata": {
    "collapsed": false
   },
   "outputs": [
    {
     "name": "stdout",
     "output_type": "stream",
     "text": [
      "RMSE: 0.72\n"
     ]
    }
   ],
   "source": [
    "# Calculate the Root Mean Squared Error\n",
    "print(\"RMSE: %.2f\"\n",
    "      % math.sqrt(np.mean((xgb.predict(X_test) - y_test) ** 2)))"
   ]
  },
  {
   "cell_type": "code",
   "execution_count": 71,
   "metadata": {
    "collapsed": false
   },
   "outputs": [
    {
     "data": {
      "image/png": "[encoded data removed]",
      "text/plain": [
       "<matplotlib.figure.Figure at 0x11c7968d0>"
      ]
     },
     "metadata": {},
     "output_type": "display_data"
    }
   ],
   "source": [
    "features = np.array(features)\n",
    "importances = xgb.feature_importances_[:10]\n",
    "indices = np.argsort(importances)\n",
    "\n",
    "plt.title('Feature Importances')\n",
    "plt.barh(range(len(indices)), importances[indices], color='b', align='center')\n",
    "plt.yticks(range(len(indices)), features[indices])\n",
    "plt.xlabel('Relative Importance')\n",
    "plt.show()"
   ]
  },
  {
   "cell_type": "code",
   "execution_count": 69,
   "metadata": {
    "collapsed": false
   },
   "outputs": [
    {
     "data": {
      "text/plain": [
       "['Location_Easting_OSGR',\n",
       " 'Location_Northing_OSGR',\n",
       " 'Longitude',\n",
       " 'Latitude',\n",
       " 'Police_Force',\n",
       " 'Number_of_Vehicles',\n",
       " 'Local_Authority_(District)',\n",
       " '1st_Road_Number',\n",
       " 'Speed_limit',\n",
       " '2nd_Road_Number',\n",
       " 'Year',\n",
       " 'month',\n",
       " 'day_of_month',\n",
       " 'day_of_year',\n",
       " 'hour',\n",
       " 'Local_Authority_(Highway)_E06000001',\n",
       " 'Local_Authority_(Highway)_E06000002',\n",
       " 'Local_Authority_(Highway)_E06000003',\n",
       " 'Local_Authority_(Highway)_E06000004',\n",
       " 'Local_Authority_(Highway)_E06000005',\n",
       " 'Local_Authority_(Highway)_E06000006',\n",
       " 'Local_Authority_(Highway)_E06000007',\n",
       " 'Local_Authority_(Highway)_E06000008',\n",
       " 'Local_Authority_(Highway)_E06000009',\n",
       " 'Local_Authority_(Highway)_E06000010',\n",
       " 'Local_Authority_(Highway)_E06000011',\n",
       " 'Local_Authority_(Highway)_E06000012',\n",
       " 'Local_Authority_(Highway)_E06000013',\n",
       " 'Local_Authority_(Highway)_E06000014',\n",
       " 'Local_Authority_(Highway)_E06000015',\n",
       " 'Local_Authority_(Highway)_E06000016',\n",
       " 'Local_Authority_(Highway)_E06000017',\n",
       " 'Local_Authority_(Highway)_E06000018',\n",
       " 'Local_Authority_(Highway)_E06000019',\n",
       " 'Local_Authority_(Highway)_E06000020',\n",
       " 'Local_Authority_(Highway)_E06000021',\n",
       " 'Local_Authority_(Highway)_E06000022',\n",
       " 'Local_Authority_(Highway)_E06000023',\n",
       " 'Local_Authority_(Highway)_E06000024',\n",
       " 'Local_Authority_(Highway)_E06000025',\n",
       " 'Local_Authority_(Highway)_E06000026',\n",
       " 'Local_Authority_(Highway)_E06000027',\n",
       " 'Local_Authority_(Highway)_E06000028',\n",
       " 'Local_Authority_(Highway)_E06000029',\n",
       " 'Local_Authority_(Highway)_E06000030',\n",
       " 'Local_Authority_(Highway)_E06000031',\n",
       " 'Local_Authority_(Highway)_E06000032',\n",
       " 'Local_Authority_(Highway)_E06000033',\n",
       " 'Local_Authority_(Highway)_E06000034',\n",
       " 'Local_Authority_(Highway)_E06000035',\n",
       " 'Local_Authority_(Highway)_E06000036',\n",
       " 'Local_Authority_(Highway)_E06000037',\n",
       " 'Local_Authority_(Highway)_E06000038',\n",
       " 'Local_Authority_(Highway)_E06000039',\n",
       " 'Local_Authority_(Highway)_E06000040',\n",
       " 'Local_Authority_(Highway)_E06000041',\n",
       " 'Local_Authority_(Highway)_E06000042',\n",
       " 'Local_Authority_(Highway)_E06000043',\n",
       " 'Local_Authority_(Highway)_E06000044',\n",
       " 'Local_Authority_(Highway)_E06000045',\n",
       " 'Local_Authority_(Highway)_E06000046',\n",
       " 'Local_Authority_(Highway)_E06000047',\n",
       " 'Local_Authority_(Highway)_E06000048',\n",
       " 'Local_Authority_(Highway)_E06000049',\n",
       " 'Local_Authority_(Highway)_E06000050',\n",
       " 'Local_Authority_(Highway)_E06000051',\n",
       " 'Local_Authority_(Highway)_E06000052',\n",
       " 'Local_Authority_(Highway)_E06000053',\n",
       " 'Local_Authority_(Highway)_E06000054',\n",
       " 'Local_Authority_(Highway)_E06000055',\n",
       " 'Local_Authority_(Highway)_E06000056',\n",
       " 'Local_Authority_(Highway)_E08000001',\n",
       " 'Local_Authority_(Highway)_E08000002',\n",
       " 'Local_Authority_(Highway)_E08000003',\n",
       " 'Local_Authority_(Highway)_E08000004',\n",
       " 'Local_Authority_(Highway)_E08000005',\n",
       " 'Local_Authority_(Highway)_E08000006',\n",
       " 'Local_Authority_(Highway)_E08000007',\n",
       " 'Local_Authority_(Highway)_E08000008',\n",
       " 'Local_Authority_(Highway)_E08000009',\n",
       " 'Local_Authority_(Highway)_E08000010',\n",
       " 'Local_Authority_(Highway)_E08000011',\n",
       " 'Local_Authority_(Highway)_E08000012',\n",
       " 'Local_Authority_(Highway)_E08000013',\n",
       " 'Local_Authority_(Highway)_E08000014',\n",
       " 'Local_Authority_(Highway)_E08000015',\n",
       " 'Local_Authority_(Highway)_E08000016',\n",
       " 'Local_Authority_(Highway)_E08000017',\n",
       " 'Local_Authority_(Highway)_E08000018',\n",
       " 'Local_Authority_(Highway)_E08000019',\n",
       " 'Local_Authority_(Highway)_E08000020',\n",
       " 'Local_Authority_(Highway)_E08000021',\n",
       " 'Local_Authority_(Highway)_E08000022',\n",
       " 'Local_Authority_(Highway)_E08000023',\n",
       " 'Local_Authority_(Highway)_E08000024',\n",
       " 'Local_Authority_(Highway)_E08000025',\n",
       " 'Local_Authority_(Highway)_E08000026',\n",
       " 'Local_Authority_(Highway)_E08000027',\n",
       " 'Local_Authority_(Highway)_E08000028',\n",
       " 'Local_Authority_(Highway)_E08000029',\n",
       " 'Local_Authority_(Highway)_E08000030',\n",
       " 'Local_Authority_(Highway)_E08000031',\n",
       " 'Local_Authority_(Highway)_E08000032',\n",
       " 'Local_Authority_(Highway)_E08000033',\n",
       " 'Local_Authority_(Highway)_E08000034',\n",
       " 'Local_Authority_(Highway)_E08000035',\n",
       " 'Local_Authority_(Highway)_E08000036',\n",
       " 'Local_Authority_(Highway)_E09000001',\n",
       " 'Local_Authority_(Highway)_E09000002',\n",
       " 'Local_Authority_(Highway)_E09000003',\n",
       " 'Local_Authority_(Highway)_E09000004',\n",
       " 'Local_Authority_(Highway)_E09000005',\n",
       " 'Local_Authority_(Highway)_E09000006',\n",
       " 'Local_Authority_(Highway)_E09000007',\n",
       " 'Local_Authority_(Highway)_E09000008',\n",
       " 'Local_Authority_(Highway)_E09000009',\n",
       " 'Local_Authority_(Highway)_E09000010',\n",
       " 'Local_Authority_(Highway)_E09000011',\n",
       " 'Local_Authority_(Highway)_E09000012',\n",
       " 'Local_Authority_(Highway)_E09000013',\n",
       " 'Local_Authority_(Highway)_E09000014',\n",
       " 'Local_Authority_(Highway)_E09000015',\n",
       " 'Local_Authority_(Highway)_E09000016',\n",
       " 'Local_Authority_(Highway)_E09000017',\n",
       " 'Local_Authority_(Highway)_E09000018',\n",
       " 'Local_Authority_(Highway)_E09000019',\n",
       " 'Local_Authority_(Highway)_E09000020',\n",
       " 'Local_Authority_(Highway)_E09000021',\n",
       " 'Local_Authority_(Highway)_E09000022',\n",
       " 'Local_Authority_(Highway)_E09000023',\n",
       " 'Local_Authority_(Highway)_E09000024',\n",
       " 'Local_Authority_(Highway)_E09000025',\n",
       " 'Local_Authority_(Highway)_E09000026',\n",
       " 'Local_Authority_(Highway)_E09000027',\n",
       " 'Local_Authority_(Highway)_E09000028',\n",
       " 'Local_Authority_(Highway)_E09000029',\n",
       " 'Local_Authority_(Highway)_E09000030',\n",
       " 'Local_Authority_(Highway)_E09000031',\n",
       " 'Local_Authority_(Highway)_E09000032',\n",
       " 'Local_Authority_(Highway)_E09000033',\n",
       " 'Local_Authority_(Highway)_E10000002',\n",
       " 'Local_Authority_(Highway)_E10000003',\n",
       " 'Local_Authority_(Highway)_E10000006',\n",
       " 'Local_Authority_(Highway)_E10000007',\n",
       " 'Local_Authority_(Highway)_E10000008',\n",
       " 'Local_Authority_(Highway)_E10000009',\n",
       " 'Local_Authority_(Highway)_E10000011',\n",
       " 'Local_Authority_(Highway)_E10000012',\n",
       " 'Local_Authority_(Highway)_E10000013',\n",
       " 'Local_Authority_(Highway)_E10000014',\n",
       " 'Local_Authority_(Highway)_E10000015',\n",
       " 'Local_Authority_(Highway)_E10000016',\n",
       " 'Local_Authority_(Highway)_E10000017',\n",
       " 'Local_Authority_(Highway)_E10000018',\n",
       " 'Local_Authority_(Highway)_E10000019',\n",
       " 'Local_Authority_(Highway)_E10000020',\n",
       " 'Local_Authority_(Highway)_E10000021',\n",
       " 'Local_Authority_(Highway)_E10000023',\n",
       " 'Local_Authority_(Highway)_E10000024',\n",
       " 'Local_Authority_(Highway)_E10000025',\n",
       " 'Local_Authority_(Highway)_E10000027',\n",
       " 'Local_Authority_(Highway)_E10000028',\n",
       " 'Local_Authority_(Highway)_E10000029',\n",
       " 'Local_Authority_(Highway)_E10000030',\n",
       " 'Local_Authority_(Highway)_E10000031',\n",
       " 'Local_Authority_(Highway)_E10000032',\n",
       " 'Local_Authority_(Highway)_E10000034',\n",
       " 'Local_Authority_(Highway)_EHEATHROW',\n",
       " 'Local_Authority_(Highway)_S12000027',\n",
       " 'Local_Authority_(Highway)_S12000029',\n",
       " 'Local_Authority_(Highway)_S12000038',\n",
       " 'Local_Authority_(Highway)_W06000001',\n",
       " 'Local_Authority_(Highway)_W06000002',\n",
       " 'Local_Authority_(Highway)_W06000003',\n",
       " 'Local_Authority_(Highway)_W06000004',\n",
       " 'Local_Authority_(Highway)_W06000005',\n",
       " 'Local_Authority_(Highway)_W06000006',\n",
       " 'Local_Authority_(Highway)_W06000008',\n",
       " 'Local_Authority_(Highway)_W06000009',\n",
       " 'Local_Authority_(Highway)_W06000010',\n",
       " 'Local_Authority_(Highway)_W06000011',\n",
       " 'Local_Authority_(Highway)_W06000012',\n",
       " 'Local_Authority_(Highway)_W06000013',\n",
       " 'Local_Authority_(Highway)_W06000014',\n",
       " 'Local_Authority_(Highway)_W06000015',\n",
       " 'Local_Authority_(Highway)_W06000016',\n",
       " 'Local_Authority_(Highway)_W06000018',\n",
       " 'Local_Authority_(Highway)_W06000019',\n",
       " 'Local_Authority_(Highway)_W06000020',\n",
       " 'Local_Authority_(Highway)_W06000021',\n",
       " 'Local_Authority_(Highway)_W06000022',\n",
       " 'Local_Authority_(Highway)_W06000023',\n",
       " 'Local_Authority_(Highway)_W06000024',\n",
       " 'Road_Type_Dual carriageway',\n",
       " 'Road_Type_One way street',\n",
       " 'Road_Type_Roundabout',\n",
       " 'Road_Type_Single carriageway',\n",
       " 'Road_Type_Slip road',\n",
       " 'Road_Type_Unknown',\n",
       " 'Junction_Control_Authorised person',\n",
       " 'Junction_Control_Automatic traffic signal',\n",
       " 'Junction_Control_Giveway or uncontrolled',\n",
       " 'Junction_Control_Stop Sign',\n",
       " 'Pedestrian_Crossing-Human_Control_Control by other authorised person',\n",
       " 'Pedestrian_Crossing-Human_Control_Control by school crossing patrol',\n",
       " 'Pedestrian_Crossing-Human_Control_None within 50 metres',\n",
       " 'Pedestrian_Crossing-Physical_Facilities_Central refuge',\n",
       " 'Pedestrian_Crossing-Physical_Facilities_Footbridge or subway',\n",
       " 'Pedestrian_Crossing-Physical_Facilities_No physical crossing within 50 meters',\n",
       " 'Pedestrian_Crossing-Physical_Facilities_Pedestrian phase at traffic signal junction',\n",
       " 'Pedestrian_Crossing-Physical_Facilities_Zebra crossing',\n",
       " 'Pedestrian_Crossing-Physical_Facilities_non-junction pedestrian crossing',\n",
       " 'Light_Conditions_Darkeness: No street lighting',\n",
       " 'Light_Conditions_Darkness: Street lighting unknown',\n",
       " 'Light_Conditions_Darkness: Street lights present and lit',\n",
       " 'Light_Conditions_Darkness: Street lights present but unlit',\n",
       " 'Light_Conditions_Daylight: Street light present',\n",
       " 'Weather_Conditions_Fine with high winds',\n",
       " 'Weather_Conditions_Fine without high winds',\n",
       " 'Weather_Conditions_Fog or mist',\n",
       " 'Weather_Conditions_Other',\n",
       " 'Weather_Conditions_Raining with high winds',\n",
       " 'Weather_Conditions_Raining without high winds',\n",
       " 'Weather_Conditions_Snowing with high winds',\n",
       " 'Weather_Conditions_Snowing without high winds',\n",
       " 'Weather_Conditions_Unknown',\n",
       " 'Road_Surface_Conditions_Dry',\n",
       " 'Road_Surface_Conditions_Flood (Over 3cm of water)',\n",
       " 'Road_Surface_Conditions_Frost/Ice',\n",
       " 'Road_Surface_Conditions_Snow',\n",
       " 'Road_Surface_Conditions_Wet/Damp',\n",
       " 'Did_Police_Officer_Attend_Scene_of_Accident_No',\n",
       " 'Did_Police_Officer_Attend_Scene_of_Accident_Yes',\n",
       " 'Urban_or_Rural_Area_1',\n",
       " 'Urban_or_Rural_Area_2',\n",
       " 'Accident_Severity_1',\n",
       " 'Accident_Severity_2',\n",
       " 'Accident_Severity_3',\n",
       " 'Day_of_Week_1',\n",
       " 'Day_of_Week_2',\n",
       " 'Day_of_Week_3',\n",
       " 'Day_of_Week_4',\n",
       " 'Day_of_Week_5',\n",
       " 'Day_of_Week_6',\n",
       " 'Day_of_Week_7',\n",
       " '1st_Road_Class_1',\n",
       " '1st_Road_Class_2',\n",
       " '1st_Road_Class_3',\n",
       " '1st_Road_Class_4',\n",
       " '1st_Road_Class_5',\n",
       " '1st_Road_Class_6',\n",
       " '2nd_Road_Class_-1',\n",
       " '2nd_Road_Class_1',\n",
       " '2nd_Road_Class_2',\n",
       " '2nd_Road_Class_3',\n",
       " '2nd_Road_Class_4',\n",
       " '2nd_Road_Class_5',\n",
       " '2nd_Road_Class_6']"
      ]
     },
     "execution_count": 69,
     "metadata": {},
     "output_type": "execute_result"
    }
   ],
   "source": [
    "features"
   ]
  },
  {
   "cell_type": "markdown",
   "metadata": {},
   "source": [
    "# Predicting Latitude of the Accident"
   ]
  },
  {
   "cell_type": "code",
   "execution_count": 47,
   "metadata": {
    "collapsed": false
   },
   "outputs": [
    {
     "name": "stdout",
     "output_type": "stream",
     "text": [
      "Number of rows and collumns (570011, 33) (469442, 33) (464697, 33) (1504150, 33)\n",
      "CPU times: user 11.4 s, sys: 2.46 s, total: 13.8 s\n",
      "Wall time: 14.5 s\n"
     ]
    }
   ],
   "source": [
    "%%time\n",
    "df1 = pd.read_csv('/Users/user/Desktop/application/DHL/accidents_2005_to_2007.csv',low_memory=False)\n",
    "df2 = pd.read_csv('/Users/user/Desktop/application/DHL/accidents_2009_to_2011.csv',low_memory=False)\n",
    "df3 = pd.read_csv('/Users/user/Desktop/application/DHL/accidents_2012_to_2014.csv',low_memory=False)\n",
    "\n",
    "# check if the three datasets have same column headers\n",
    "df1.columns.difference(df2.columns).difference(df3.columns)\n",
    "\n",
    "# combine three datasets into one\n",
    "df = pd.concat([df1, df2, df3],ignore_index=True)\n",
    "\n",
    "print('Number of rows and collumns',df1.shape,df2.shape,df3.shape,df.shape)"
   ]
  },
  {
   "cell_type": "code",
   "execution_count": 48,
   "metadata": {
    "collapsed": true
   },
   "outputs": [],
   "source": [
    "df['Date'] = pd.to_datetime(df['Date'],dayfirst=True)\n",
    "df['month'] = df['Date'].apply(lambda x: x.month)\n",
    "df['day_of_month'] = df['Date'].apply(lambda x: x.day)\n",
    "df['day_of_year'] = df['Date'].apply(lambda x: x.dayofyear)\n",
    "df['hour'] = df['Time'].apply(to_hour)"
   ]
  },
  {
   "cell_type": "code",
   "execution_count": 49,
   "metadata": {
    "collapsed": true
   },
   "outputs": [],
   "source": [
    "del df['Junction_Detail']\n",
    "df = df.dropna(how='any',axis=0)"
   ]
  },
  {
   "cell_type": "code",
   "execution_count": 50,
   "metadata": {
    "collapsed": true
   },
   "outputs": [],
   "source": [
    "cat_columns = [\n",
    "'Road_Type',\n",
    "'Junction_Control',\n",
    "'Pedestrian_Crossing-Human_Control',\n",
    "'Pedestrian_Crossing-Physical_Facilities',\n",
    "'Light_Conditions', \n",
    "'Weather_Conditions', \n",
    "'Road_Surface_Conditions',\n",
    "'Did_Police_Officer_Attend_Scene_of_Accident',\n",
    "'Urban_or_Rural_Area',\n",
    "'Accident_Severity',\n",
    "'Day_of_Week',\n",
    "'1st_Road_Class',\n",
    "'2nd_Road_Class']\n",
    "\n",
    "prefix_cols = [\n",
    "'Road_Type',\n",
    "'Junction_Control',\n",
    "'Pedestrian_Crossing-Human_Control',\n",
    "'Pedestrian_Crossing-Physical_Facilities',\n",
    "'Light_Conditions', \n",
    "'Weather_Conditions', \n",
    "'Road_Surface_Conditions',\n",
    "'Did_Police_Officer_Attend_Scene_of_Accident',\n",
    "'Urban_or_Rural_Area',\n",
    "'Accident_Severity',\n",
    "'Day_of_Week',\n",
    "'1st_Road_Class',\n",
    "'2nd_Road_Class']"
   ]
  },
  {
   "cell_type": "code",
   "execution_count": 51,
   "metadata": {
    "collapsed": true
   },
   "outputs": [],
   "source": [
    "df2 = pd.get_dummies(df, columns=cat_columns, prefix=cat_columns)"
   ]
  },
  {
   "cell_type": "code",
   "execution_count": 52,
   "metadata": {
    "collapsed": true
   },
   "outputs": [],
   "source": [
    "target2 = 'Latitude'\n",
    "features2 = [col for col in df2.columns if col not in ['Accident_Index','Latitude', 'Longitude', 'Date', \n",
    "                                                     'Time','Special_Conditions_at_Site','Carriageway_Hazards',\n",
    "                                                     'Local_Authority_(Highway)','LSOA_of_Accident_Location',\n",
    "                                                     'Location_Easting_OSGR',\n",
    "                                                     'Location_Northing_OSGR','Local_Authority_(District)']]"
   ]
  },
  {
   "cell_type": "code",
   "execution_count": 53,
   "metadata": {
    "collapsed": false
   },
   "outputs": [
    {
     "data": {
      "text/plain": [
       "['Police_Force',\n",
       " 'Number_of_Vehicles',\n",
       " 'Number_of_Casualties',\n",
       " '1st_Road_Number',\n",
       " 'Speed_limit',\n",
       " '2nd_Road_Number',\n",
       " 'Year',\n",
       " 'month',\n",
       " 'day_of_month',\n",
       " 'day_of_year',\n",
       " 'hour',\n",
       " 'Road_Type_Dual carriageway',\n",
       " 'Road_Type_One way street',\n",
       " 'Road_Type_Roundabout',\n",
       " 'Road_Type_Single carriageway',\n",
       " 'Road_Type_Slip road',\n",
       " 'Road_Type_Unknown',\n",
       " 'Junction_Control_Authorised person',\n",
       " 'Junction_Control_Automatic traffic signal',\n",
       " 'Junction_Control_Giveway or uncontrolled',\n",
       " 'Junction_Control_Stop Sign',\n",
       " 'Pedestrian_Crossing-Human_Control_Control by other authorised person',\n",
       " 'Pedestrian_Crossing-Human_Control_Control by school crossing patrol',\n",
       " 'Pedestrian_Crossing-Human_Control_None within 50 metres',\n",
       " 'Pedestrian_Crossing-Physical_Facilities_Central refuge',\n",
       " 'Pedestrian_Crossing-Physical_Facilities_Footbridge or subway',\n",
       " 'Pedestrian_Crossing-Physical_Facilities_No physical crossing within 50 meters',\n",
       " 'Pedestrian_Crossing-Physical_Facilities_Pedestrian phase at traffic signal junction',\n",
       " 'Pedestrian_Crossing-Physical_Facilities_Zebra crossing',\n",
       " 'Pedestrian_Crossing-Physical_Facilities_non-junction pedestrian crossing',\n",
       " 'Light_Conditions_Darkeness: No street lighting',\n",
       " 'Light_Conditions_Darkness: Street lighting unknown',\n",
       " 'Light_Conditions_Darkness: Street lights present and lit',\n",
       " 'Light_Conditions_Darkness: Street lights present but unlit',\n",
       " 'Light_Conditions_Daylight: Street light present',\n",
       " 'Weather_Conditions_Fine with high winds',\n",
       " 'Weather_Conditions_Fine without high winds',\n",
       " 'Weather_Conditions_Fog or mist',\n",
       " 'Weather_Conditions_Other',\n",
       " 'Weather_Conditions_Raining with high winds',\n",
       " 'Weather_Conditions_Raining without high winds',\n",
       " 'Weather_Conditions_Snowing with high winds',\n",
       " 'Weather_Conditions_Snowing without high winds',\n",
       " 'Weather_Conditions_Unknown',\n",
       " 'Road_Surface_Conditions_Dry',\n",
       " 'Road_Surface_Conditions_Flood (Over 3cm of water)',\n",
       " 'Road_Surface_Conditions_Frost/Ice',\n",
       " 'Road_Surface_Conditions_Snow',\n",
       " 'Road_Surface_Conditions_Wet/Damp',\n",
       " 'Did_Police_Officer_Attend_Scene_of_Accident_No',\n",
       " 'Did_Police_Officer_Attend_Scene_of_Accident_Yes',\n",
       " 'Urban_or_Rural_Area_1',\n",
       " 'Urban_or_Rural_Area_2',\n",
       " 'Accident_Severity_1',\n",
       " 'Accident_Severity_2',\n",
       " 'Accident_Severity_3',\n",
       " 'Day_of_Week_1',\n",
       " 'Day_of_Week_2',\n",
       " 'Day_of_Week_3',\n",
       " 'Day_of_Week_4',\n",
       " 'Day_of_Week_5',\n",
       " 'Day_of_Week_6',\n",
       " 'Day_of_Week_7',\n",
       " '1st_Road_Class_1',\n",
       " '1st_Road_Class_2',\n",
       " '1st_Road_Class_3',\n",
       " '1st_Road_Class_4',\n",
       " '1st_Road_Class_5',\n",
       " '1st_Road_Class_6',\n",
       " '2nd_Road_Class_-1',\n",
       " '2nd_Road_Class_1',\n",
       " '2nd_Road_Class_2',\n",
       " '2nd_Road_Class_3',\n",
       " '2nd_Road_Class_4',\n",
       " '2nd_Road_Class_5',\n",
       " '2nd_Road_Class_6']"
      ]
     },
     "execution_count": 53,
     "metadata": {},
     "output_type": "execute_result"
    }
   ],
   "source": [
    "features2"
   ]
  },
  {
   "cell_type": "code",
   "execution_count": 54,
   "metadata": {
    "collapsed": true
   },
   "outputs": [],
   "source": [
    "X2 = df2[features2].values\n",
    "y2 = df2[target2].values"
   ]
  },
  {
   "cell_type": "code",
   "execution_count": 55,
   "metadata": {
    "collapsed": true
   },
   "outputs": [],
   "source": [
    "X2_train, X2_test, y2_train, y2_test = cross_validation.train_test_split(X2, y2 ,test_size=0.2)"
   ]
  },
  {
   "cell_type": "code",
   "execution_count": 56,
   "metadata": {
    "collapsed": false
   },
   "outputs": [
    {
     "data": {
      "text/plain": [
       "((676514, 76), (169129, 76), (676514,), (169129,))"
      ]
     },
     "execution_count": 56,
     "metadata": {},
     "output_type": "execute_result"
    }
   ],
   "source": [
    "X2_train.shape, X2_test.shape, y2_train.shape, y2_test.shape"
   ]
  },
  {
   "cell_type": "code",
   "execution_count": 57,
   "metadata": {
    "collapsed": true
   },
   "outputs": [],
   "source": [
    "regr2 = linear_model.LinearRegression()"
   ]
  },
  {
   "cell_type": "code",
   "execution_count": 58,
   "metadata": {
    "collapsed": false
   },
   "outputs": [
    {
     "name": "stdout",
     "output_type": "stream",
     "text": [
      "[ 52.98413617  52.88883869  51.13398787 ...,  52.77669684  51.04995694\n",
      "  52.31625807]\n"
     ]
    }
   ],
   "source": [
    "regr2.fit(X2_train, y2_train)\n",
    "print(regr2.predict(X2_test))"
   ]
  },
  {
   "cell_type": "code",
   "execution_count": 59,
   "metadata": {
    "collapsed": false
   },
   "outputs": [
    {
     "data": {
      "text/plain": [
       "0.27675100900018268"
      ]
     },
     "execution_count": 59,
     "metadata": {},
     "output_type": "execute_result"
    }
   ],
   "source": [
    "regr2.score(X2_test,y2_test)"
   ]
  },
  {
   "cell_type": "code",
   "execution_count": 60,
   "metadata": {
    "collapsed": false
   },
   "outputs": [
    {
     "name": "stdout",
     "output_type": "stream",
     "text": [
      "RMSE: 0.95\n"
     ]
    }
   ],
   "source": [
    "# Calculate the Root Mean Squared Error\n",
    "print(\"RMSE: %.2f\"\n",
    "      % math.sqrt(np.mean((regr2.predict(X2_test) - y2_test) ** 2)))"
   ]
  },
  {
   "cell_type": "code",
   "execution_count": 61,
   "metadata": {
    "collapsed": true
   },
   "outputs": [],
   "source": [
    "# Let's try XGboost algorithm to see if we can get better results\n",
    "xgb2 = xgboost.XGBRegressor(nthread=-1)"
   ]
  },
  {
   "cell_type": "code",
   "execution_count": 92,
   "metadata": {
    "collapsed": false
   },
   "outputs": [
    {
     "name": "stdout",
     "output_type": "stream",
     "text": [
      "RMSE: 0.15\n"
     ]
    }
   ],
   "source": [
    "# Calculate the Root Mean Squared Error\n",
    "print(\"RMSE: %.2f\"\n",
    "      % math.sqrt(np.mean((xgb2.predict(X2_test) - y2_test) ** 2)))"
   ]
  },
  {
   "cell_type": "code",
   "execution_count": 62,
   "metadata": {
    "collapsed": false
   },
   "outputs": [
    {
     "name": "stdout",
     "output_type": "stream",
     "text": [
      "0.980159491622\n"
     ]
    }
   ],
   "source": [
    "xgb2.fit(X2_train,y2_train)\n",
    "predictions2 = xgb2.predict(X2_test)\n",
    "print(explained_variance_score(predictions2,y2_test))"
   ]
  },
  {
   "cell_type": "code",
   "execution_count": 72,
   "metadata": {
    "collapsed": false
   },
   "outputs": [
    {
     "data": {
      "image/png": "[encoded data removed]",
      "text/plain": [
       "<matplotlib.figure.Figure at 0x11c703128>"
      ]
     },
     "metadata": {},
     "output_type": "display_data"
    }
   ],
   "source": [
    "features2 = np.array(features2)\n",
    "importances2 = xgb2.feature_importances_[:10]\n",
    "indices2 = np.argsort(importances2)\n",
    "\n",
    "plt.title('Feature Importances')\n",
    "plt.barh(range(len(indices2)), importances2[indices2], color='b', align='center')\n",
    "plt.yticks(range(len(indices2)), features2[indices2])\n",
    "plt.xlabel('Relative Importance')\n",
    "plt.show()"
   ]
  },
  {
   "cell_type": "code",
   "execution_count": 74,
   "metadata": {
    "collapsed": false
   },
   "outputs": [
    {
     "data": {
      "text/plain": [
       "array([ 1, 48,  3,  4,  5,  6,  7, 10, 11, 12, 13, 14, 16, 17, 20, 21, 22,\n",
       "       23, 30, 31, 32, 33, 34, 35, 36, 37, 40, 41, 42, 43, 44, 45, 46, 47,\n",
       "       50, 52, 53, 54, 55, 60, 61, 62, 63, 91, 97])"
      ]
     },
     "execution_count": 74,
     "metadata": {},
     "output_type": "execute_result"
    }
   ],
   "source": [
    "df2['Police_Force'].unique()"
   ]
  },
  {
   "cell_type": "markdown",
   "metadata": {},
   "source": [
    "# Predicting Longitude of the Accident"
   ]
  },
  {
   "cell_type": "code",
   "execution_count": 75,
   "metadata": {
    "collapsed": false
   },
   "outputs": [
    {
     "name": "stdout",
     "output_type": "stream",
     "text": [
      "Number of rows and collumns (570011, 33) (469442, 33) (464697, 33) (1504150, 33)\n",
      "CPU times: user 12.2 s, sys: 2.84 s, total: 15 s\n",
      "Wall time: 15.7 s\n"
     ]
    }
   ],
   "source": [
    "%%time\n",
    "df1 = pd.read_csv('/Users/user/Desktop/application/DHL/accidents_2005_to_2007.csv',low_memory=False)\n",
    "df2 = pd.read_csv('/Users/user/Desktop/application/DHL/accidents_2009_to_2011.csv',low_memory=False)\n",
    "df3 = pd.read_csv('/Users/user/Desktop/application/DHL/accidents_2012_to_2014.csv',low_memory=False)\n",
    "\n",
    "# check if the three datasets have same column headers\n",
    "df1.columns.difference(df2.columns).difference(df3.columns)\n",
    "\n",
    "# combine three datasets into one\n",
    "df = pd.concat([df1, df2, df3],ignore_index=True)\n",
    "\n",
    "print('Number of rows and collumns',df1.shape,df2.shape,df3.shape,df.shape)"
   ]
  },
  {
   "cell_type": "code",
   "execution_count": 76,
   "metadata": {
    "collapsed": true
   },
   "outputs": [],
   "source": [
    "df['Date'] = pd.to_datetime(df['Date'],dayfirst=True)\n",
    "df['month'] = df['Date'].apply(lambda x: x.month)\n",
    "df['day_of_month'] = df['Date'].apply(lambda x: x.day)\n",
    "df['day_of_year'] = df['Date'].apply(lambda x: x.dayofyear)\n",
    "df['hour'] = df['Time'].apply(to_hour)"
   ]
  },
  {
   "cell_type": "code",
   "execution_count": 77,
   "metadata": {
    "collapsed": true
   },
   "outputs": [],
   "source": [
    "del df['Junction_Detail']\n",
    "df = df.dropna(how='any',axis=0)"
   ]
  },
  {
   "cell_type": "code",
   "execution_count": 78,
   "metadata": {
    "collapsed": true
   },
   "outputs": [],
   "source": [
    "cat_columns = [\n",
    "'Road_Type',\n",
    "'Junction_Control',\n",
    "'Pedestrian_Crossing-Human_Control',\n",
    "'Pedestrian_Crossing-Physical_Facilities',\n",
    "'Light_Conditions', \n",
    "'Weather_Conditions', \n",
    "'Road_Surface_Conditions',\n",
    "'Did_Police_Officer_Attend_Scene_of_Accident',\n",
    "'Urban_or_Rural_Area',\n",
    "'Accident_Severity',\n",
    "'Day_of_Week',\n",
    "'1st_Road_Class',\n",
    "'2nd_Road_Class']\n",
    "\n",
    "prefix_cols = [\n",
    "'Road_Type',\n",
    "'Junction_Control',\n",
    "'Pedestrian_Crossing-Human_Control',\n",
    "'Pedestrian_Crossing-Physical_Facilities',\n",
    "'Light_Conditions', \n",
    "'Weather_Conditions', \n",
    "'Road_Surface_Conditions',\n",
    "'Did_Police_Officer_Attend_Scene_of_Accident',\n",
    "'Urban_or_Rural_Area',\n",
    "'Accident_Severity',\n",
    "'Day_of_Week',\n",
    "'1st_Road_Class',\n",
    "'2nd_Road_Class']"
   ]
  },
  {
   "cell_type": "code",
   "execution_count": 79,
   "metadata": {
    "collapsed": true
   },
   "outputs": [],
   "source": [
    "df3 = pd.get_dummies(df, columns=cat_columns, prefix=cat_columns)"
   ]
  },
  {
   "cell_type": "code",
   "execution_count": 80,
   "metadata": {
    "collapsed": true
   },
   "outputs": [],
   "source": [
    "target3 = 'Longitude'\n",
    "features3 = [col for col in df3.columns if col not in ['Accident_Index','Latitude', 'Longitude', 'Date', \n",
    "                                                     'Time','Special_Conditions_at_Site','Carriageway_Hazards',\n",
    "                                                     'Local_Authority_(Highway)','LSOA_of_Accident_Location',\n",
    "                                                     'Location_Easting_OSGR',\n",
    "                                                     'Location_Northing_OSGR','Local_Authority_(District)']]"
   ]
  },
  {
   "cell_type": "code",
   "execution_count": 87,
   "metadata": {
    "collapsed": false
   },
   "outputs": [
    {
     "data": {
      "text/plain": [
       "['Police_Force',\n",
       " 'Number_of_Vehicles',\n",
       " 'Number_of_Casualties',\n",
       " '1st_Road_Number',\n",
       " 'Speed_limit',\n",
       " '2nd_Road_Number',\n",
       " 'Year',\n",
       " 'month',\n",
       " 'day_of_month',\n",
       " 'day_of_year',\n",
       " 'hour',\n",
       " 'Road_Type_Dual carriageway',\n",
       " 'Road_Type_One way street',\n",
       " 'Road_Type_Roundabout',\n",
       " 'Road_Type_Single carriageway',\n",
       " 'Road_Type_Slip road',\n",
       " 'Road_Type_Unknown',\n",
       " 'Junction_Control_Authorised person',\n",
       " 'Junction_Control_Automatic traffic signal',\n",
       " 'Junction_Control_Giveway or uncontrolled',\n",
       " 'Junction_Control_Stop Sign',\n",
       " 'Pedestrian_Crossing-Human_Control_Control by other authorised person',\n",
       " 'Pedestrian_Crossing-Human_Control_Control by school crossing patrol',\n",
       " 'Pedestrian_Crossing-Human_Control_None within 50 metres',\n",
       " 'Pedestrian_Crossing-Physical_Facilities_Central refuge',\n",
       " 'Pedestrian_Crossing-Physical_Facilities_Footbridge or subway',\n",
       " 'Pedestrian_Crossing-Physical_Facilities_No physical crossing within 50 meters',\n",
       " 'Pedestrian_Crossing-Physical_Facilities_Pedestrian phase at traffic signal junction',\n",
       " 'Pedestrian_Crossing-Physical_Facilities_Zebra crossing',\n",
       " 'Pedestrian_Crossing-Physical_Facilities_non-junction pedestrian crossing',\n",
       " 'Light_Conditions_Darkeness: No street lighting',\n",
       " 'Light_Conditions_Darkness: Street lighting unknown',\n",
       " 'Light_Conditions_Darkness: Street lights present and lit',\n",
       " 'Light_Conditions_Darkness: Street lights present but unlit',\n",
       " 'Light_Conditions_Daylight: Street light present',\n",
       " 'Weather_Conditions_Fine with high winds',\n",
       " 'Weather_Conditions_Fine without high winds',\n",
       " 'Weather_Conditions_Fog or mist',\n",
       " 'Weather_Conditions_Other',\n",
       " 'Weather_Conditions_Raining with high winds',\n",
       " 'Weather_Conditions_Raining without high winds',\n",
       " 'Weather_Conditions_Snowing with high winds',\n",
       " 'Weather_Conditions_Snowing without high winds',\n",
       " 'Weather_Conditions_Unknown',\n",
       " 'Road_Surface_Conditions_Dry',\n",
       " 'Road_Surface_Conditions_Flood (Over 3cm of water)',\n",
       " 'Road_Surface_Conditions_Frost/Ice',\n",
       " 'Road_Surface_Conditions_Snow',\n",
       " 'Road_Surface_Conditions_Wet/Damp',\n",
       " 'Did_Police_Officer_Attend_Scene_of_Accident_No',\n",
       " 'Did_Police_Officer_Attend_Scene_of_Accident_Yes',\n",
       " 'Urban_or_Rural_Area_1',\n",
       " 'Urban_or_Rural_Area_2',\n",
       " 'Accident_Severity_1',\n",
       " 'Accident_Severity_2',\n",
       " 'Accident_Severity_3',\n",
       " 'Day_of_Week_1',\n",
       " 'Day_of_Week_2',\n",
       " 'Day_of_Week_3',\n",
       " 'Day_of_Week_4',\n",
       " 'Day_of_Week_5',\n",
       " 'Day_of_Week_6',\n",
       " 'Day_of_Week_7',\n",
       " '1st_Road_Class_1',\n",
       " '1st_Road_Class_2',\n",
       " '1st_Road_Class_3',\n",
       " '1st_Road_Class_4',\n",
       " '1st_Road_Class_5',\n",
       " '1st_Road_Class_6',\n",
       " '2nd_Road_Class_-1',\n",
       " '2nd_Road_Class_1',\n",
       " '2nd_Road_Class_2',\n",
       " '2nd_Road_Class_3',\n",
       " '2nd_Road_Class_4',\n",
       " '2nd_Road_Class_5',\n",
       " '2nd_Road_Class_6']"
      ]
     },
     "execution_count": 87,
     "metadata": {},
     "output_type": "execute_result"
    }
   ],
   "source": [
    "features3"
   ]
  },
  {
   "cell_type": "code",
   "execution_count": 81,
   "metadata": {
    "collapsed": true
   },
   "outputs": [],
   "source": [
    "X3 = df3[features3].values\n",
    "y3 = df3[target3].values"
   ]
  },
  {
   "cell_type": "code",
   "execution_count": 82,
   "metadata": {
    "collapsed": true
   },
   "outputs": [],
   "source": [
    "X3_train, X3_test, y3_train, y3_test = cross_validation.train_test_split(X3, y3 ,test_size=0.2)"
   ]
  },
  {
   "cell_type": "code",
   "execution_count": 83,
   "metadata": {
    "collapsed": true
   },
   "outputs": [],
   "source": [
    "regr3 = linear_model.LinearRegression()"
   ]
  },
  {
   "cell_type": "code",
   "execution_count": 84,
   "metadata": {
    "collapsed": false
   },
   "outputs": [
    {
     "name": "stdout",
     "output_type": "stream",
     "text": [
      "[-0.90311451 -0.49555243 -1.44756069 ..., -1.0406618  -0.9086433\n",
      " -0.97634777]\n"
     ]
    }
   ],
   "source": [
    "regr3.fit(X3_train, y3_train)\n",
    "print(regr3.predict(X3_test))"
   ]
  },
  {
   "cell_type": "code",
   "execution_count": 85,
   "metadata": {
    "collapsed": false
   },
   "outputs": [
    {
     "data": {
      "text/plain": [
       "0.082052204945735285"
      ]
     },
     "execution_count": 85,
     "metadata": {},
     "output_type": "execute_result"
    }
   ],
   "source": [
    "regr3.score(X3_test,y3_test)"
   ]
  },
  {
   "cell_type": "code",
   "execution_count": 86,
   "metadata": {
    "collapsed": false
   },
   "outputs": [
    {
     "name": "stdout",
     "output_type": "stream",
     "text": [
      "RMSE: 1.19\n"
     ]
    }
   ],
   "source": [
    "# Calculate the Root Mean Squared Error\n",
    "print(\"RMSE: %.2f\"\n",
    "      % math.sqrt(np.mean((regr3.predict(X3_test) - y3_test) ** 2)))"
   ]
  },
  {
   "cell_type": "code",
   "execution_count": 89,
   "metadata": {
    "collapsed": true
   },
   "outputs": [],
   "source": [
    "# Let's try XGboost algorithm to see if we can get better results\n",
    "xgb3 = xgboost.XGBRegressor(nthread=-1)"
   ]
  },
  {
   "cell_type": "code",
   "execution_count": 90,
   "metadata": {
    "collapsed": false
   },
   "outputs": [
    {
     "name": "stdout",
     "output_type": "stream",
     "text": [
      "-1.09480338209\n"
     ]
    }
   ],
   "source": [
    "xgb3.fit(X3_train,y3_train)\n",
    "predictions3 = xgb3.predict(X2_test)\n",
    "print(explained_variance_score(predictions3,y3_test))"
   ]
  },
  {
   "cell_type": "code",
   "execution_count": 93,
   "metadata": {
    "collapsed": false
   },
   "outputs": [
    {
     "data": {
      "image/png": "[encoded data removed]",
      "text/plain": [
       "<matplotlib.figure.Figure at 0x10d394908>"
      ]
     },
     "metadata": {},
     "output_type": "display_data"
    }
   ],
   "source": [
    "features3 = np.array(features3)\n",
    "importances3 = xgb3.feature_importances_[:10]\n",
    "indices3 = np.argsort(importances3)\n",
    "\n",
    "plt.title('Feature Importances')\n",
    "plt.barh(range(len(indices3)), importances3[indices3], color='b', align='center')\n",
    "plt.yticks(range(len(indices3)), features3[indices2])\n",
    "plt.xlabel('Relative Importance')\n",
    "plt.show()"
   ]
  },
  {
   "cell_type": "code",
   "execution_count": 91,
   "metadata": {
    "collapsed": false
   },
   "outputs": [
    {
     "name": "stdout",
     "output_type": "stream",
     "text": [
      "RMSE: 0.25\n"
     ]
    }
   ],
   "source": [
    "# Calculate the Root Mean Squared Error\n",
    "print(\"RMSE: %.2f\"\n",
    "      % math.sqrt(np.mean((xgb3.predict(X3_test) - y3_test) ** 2)))"
   ]
  },
  {
   "cell_type": "code",
   "execution_count": null,
   "metadata": {
    "collapsed": true
   },
   "outputs": [],
   "source": []
  },
  {
   "cell_type": "code",
   "execution_count": null,
   "metadata": {
    "collapsed": true
   },
   "outputs": [],
   "source": []
  },
  {
   "cell_type": "code",
   "execution_count": null,
   "metadata": {
    "collapsed": true
   },
   "outputs": [],
   "source": []
  },
  {
   "cell_type": "code",
   "execution_count": null,
   "metadata": {
    "collapsed": true
   },
   "outputs": [],
   "source": []
  },
  {
   "cell_type": "code",
   "execution_count": null,
   "metadata": {
    "collapsed": true
   },
   "outputs": [],
   "source": []
  },
  {
   "cell_type": "code",
   "execution_count": null,
   "metadata": {
    "collapsed": true
   },
   "outputs": [],
   "source": []
  },
  {
   "cell_type": "code",
   "execution_count": null,
   "metadata": {
    "collapsed": true
   },
   "outputs": [],
   "source": []
  },
  {
   "cell_type": "code",
   "execution_count": null,
   "metadata": {
    "collapsed": true
   },
   "outputs": [],
   "source": []
  },
  {
   "cell_type": "code",
   "execution_count": null,
   "metadata": {
    "collapsed": true
   },
   "outputs": [],
   "source": []
  },
  {
   "cell_type": "code",
   "execution_count": null,
   "metadata": {
    "collapsed": true
   },
   "outputs": [],
   "source": []
  },
  {
   "cell_type": "code",
   "execution_count": null,
   "metadata": {
    "collapsed": true
   },
   "outputs": [],
   "source": []
  },
  {
   "cell_type": "code",
   "execution_count": null,
   "metadata": {
    "collapsed": true
   },
   "outputs": [],
   "source": []
  },
  {
   "cell_type": "code",
   "execution_count": null,
   "metadata": {
    "collapsed": true
   },
   "outputs": [],
   "source": []
  },
  {
   "cell_type": "code",
   "execution_count": null,
   "metadata": {
    "collapsed": true
   },
   "outputs": [],
   "source": []
  },
  {
   "cell_type": "code",
   "execution_count": null,
   "metadata": {
    "collapsed": true
   },
   "outputs": [],
   "source": []
  },
  {
   "cell_type": "code",
   "execution_count": null,
   "metadata": {
    "collapsed": true
   },
   "outputs": [],
   "source": []
  },
  {
   "cell_type": "code",
   "execution_count": null,
   "metadata": {
    "collapsed": true
   },
   "outputs": [],
   "source": []
  },
  {
   "cell_type": "code",
   "execution_count": null,
   "metadata": {
    "collapsed": true
   },
   "outputs": [],
   "source": []
  },
  {
   "cell_type": "code",
   "execution_count": null,
   "metadata": {
    "collapsed": true
   },
   "outputs": [],
   "source": []
  },
  {
   "cell_type": "code",
   "execution_count": null,
   "metadata": {
    "collapsed": true
   },
   "outputs": [],
   "source": []
  },
  {
   "cell_type": "code",
   "execution_count": null,
   "metadata": {
    "collapsed": true
   },
   "outputs": [],
   "source": []
  },
  {
   "cell_type": "code",
   "execution_count": null,
   "metadata": {
    "collapsed": true
   },
   "outputs": [],
   "source": []
  },
  {
   "cell_type": "code",
   "execution_count": null,
   "metadata": {
    "collapsed": true
   },
   "outputs": [],
   "source": []
  },
  {
   "cell_type": "code",
   "execution_count": null,
   "metadata": {
    "collapsed": true
   },
   "outputs": [],
   "source": []
  },
  {
   "cell_type": "code",
   "execution_count": null,
   "metadata": {
    "collapsed": true
   },
   "outputs": [],
   "source": []
  },
  {
   "cell_type": "code",
   "execution_count": null,
   "metadata": {
    "collapsed": true
   },
   "outputs": [],
   "source": []
  },
  {
   "cell_type": "code",
   "execution_count": null,
   "metadata": {
    "collapsed": true
   },
   "outputs": [],
   "source": []
  },
  {
   "cell_type": "code",
   "execution_count": null,
   "metadata": {
    "collapsed": true
   },
   "outputs": [],
   "source": []
  }
 ],
 "metadata": {
  "kernelspec": {
   "display_name": "7mw",
   "language": "python",
   "name": "7mw"
  },
  "language_info": {
   "codemirror_mode": {
    "name": "ipython",
    "version": 3
   },
   "file_extension": ".py",
   "mimetype": "text/x-python",
   "name": "python",
   "nbconvert_exporter": "python",
   "pygments_lexer": "ipython3",
   "version": "3.5.3"
  }
 },
 "nbformat": 4,
 "nbformat_minor": 2
}
